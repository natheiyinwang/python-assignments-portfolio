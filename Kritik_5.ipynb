{
 "cells": [
  {
   "cell_type": "code",
   "execution_count": 1,
   "id": "bb7fd929-73f5-4ac1-9acc-303455447aa1",
   "metadata": {},
   "outputs": [],
   "source": [
    "import matplotlib.pyplot as plt \n",
    "import random \n",
    "\n",
    "#FROM KRITIK\n",
    "#1. initialize a random seed point within the triangle\n",
    "#2. roll the die and move the point half the distance to the chosen vertex \n",
    "#3. repeat and collect the points in a list \n",
    "# remember to start plotting points after a dozen rolls \n",
    "# initialize the vertices of the triangle and the plot "
   ]
  },
  {
   "cell_type": "code",
   "execution_count": 7,
   "id": "05a823f8-1d72-4c91-a331-c5d4599a0700",
   "metadata": {},
   "outputs": [],
   "source": [
    "#verticies of an equilateral triangle\n",
    "vertices = [(0,0),(1,0),(0.5,0.866)]"
   ]
  },
  {
   "cell_type": "code",
   "execution_count": 3,
   "id": "5a9ea3f6-9689-41b6-a440-ab9efc415c09",
   "metadata": {},
   "outputs": [],
   "source": [
    "#A function to check whether point (x,y) \n",
    "#lies in the triangle formed by (A0,0),(1,0) and (0.5,0.866)\n",
    "def isInside(x1,y1,x2,y2,x3,y3,x,y):\n",
    "    def area(x1,y1,x2,y2,x3,y3):\n",
    "        return abs((x1*(y2-y3)+x2*(y3-y1)+x3(y1-y2))/2.0)\n",
    "    A = area(x1,y1,x2,y2,x3,y3)\n",
    "    A1 = area(x,y,x2,y2,x3,y3)\n",
    "    A2 = area(x1,y1,x,y,x3,y3)\n",
    "    A3 = area(x1,y1,x2,y2,x,y)\n",
    "\n",
    "    return A == A1 + A2 +A3 "
   ]
  },
  {
   "cell_type": "code",
   "execution_count": null,
   "id": "ea3634cb-5983-4657-a676-96373f465569",
   "metadata": {},
   "outputs": [],
   "source": [
    "#prompting the user for a seed point \n",
    "while True:\n",
    "    try: \n",
    "        seed_x = float(input(\"enter the x-coord of the seed point:\"))\n",
    "        seed_y = floar(input(\"enter the y-coord of the seed point:\"))\n",
    "        if isInside(0,0,1,0,0.5,0.866,seed_x,seed_y):\n",
    "            print(\"Valid seed point entered\")\n",
    "            break \n",
    "        else:print(\"the point is not inside the triange, please try again\")\n",
    "    except ValueError: \n",
    "        print(\"invalid input. please enter numerical values\")\n",
    "\n",
    "#this is your starting point \n",
    "seed = (seed_x, seed_y)\n",
    "\n",
    "#initialize a list where you will store your points (x_t,y_t)\n",
    "#starting with your seed \n",
    "points = [seed]                       "
   ]
  },
  {
   "cell_type": "code",
   "execution_count": 5,
   "id": "449b50cb-7d2c-4f79-be5d-ff4f3ee9c6d8",
   "metadata": {},
   "outputs": [
    {
     "name": "stdin",
     "output_type": "stream",
     "text": [
      "enter the number of steps: 6\n"
     ]
    },
    {
     "name": "stdout",
     "output_type": "stream",
     "text": [
      "Number of steps set to 6.\n"
     ]
    },
    {
     "ename": "NameError",
     "evalue": "name 'verticies' is not defined",
     "output_type": "error",
     "traceback": [
      "\u001b[0;31m---------------------------------------------------------------------------\u001b[0m",
      "\u001b[0;31mNameError\u001b[0m                                 Traceback (most recent call last)",
      "Cell \u001b[0;32mIn[5], line 19\u001b[0m\n\u001b[1;32m     11\u001b[0m         \u001b[38;5;28mprint\u001b[39m(\u001b[38;5;124m\"\u001b[39m\u001b[38;5;124minvalid input. please enter a positive integer.\u001b[39m\u001b[38;5;124m\"\u001b[39m)\n\u001b[1;32m     13\u001b[0m \u001b[38;5;28;01mfor\u001b[39;00m i \u001b[38;5;129;01min\u001b[39;00m \u001b[38;5;28mrange\u001b[39m (num_steps):\n\u001b[1;32m     14\u001b[0m \u001b[38;5;66;03m#choose a random vertex to move toward from the list 'vertices' \u001b[39;00m\n\u001b[1;32m     15\u001b[0m \u001b[38;5;66;03m# you can use the python code random.radient(0,2) \u001b[39;00m\n\u001b[1;32m     16\u001b[0m \u001b[38;5;66;03m#choose a random integer between 0 and 2 \u001b[39;00m\n\u001b[1;32m     17\u001b[0m \u001b[38;5;66;03m#use the random integer as the index for a vertex \u001b[39;00m\n\u001b[1;32m     18\u001b[0m \u001b[38;5;66;03m#your code should look like \"next_vertex = vertex[a random chouse of index]\u001b[39;00m\n\u001b[0;32m---> 19\u001b[0m     new_vertex \u001b[38;5;241m=\u001b[39m \u001b[43mverticies\u001b[49m[random\u001b[38;5;241m.\u001b[39mradint(\u001b[38;5;241m0\u001b[39m,\u001b[38;5;241m2\u001b[39m)]\n\u001b[1;32m     20\u001b[0m     \u001b[38;5;66;03m#this function will generate a random integer (vertex) in the index (0,1,2)\u001b[39;00m\n\u001b[1;32m     21\u001b[0m     \u001b[38;5;66;03m#create the next point by moving from the alst point to the midpoint of the line formed by that point and the random vertex\u001b[39;00m\n\u001b[1;32m     22\u001b[0m     new_point \u001b[38;5;241m=\u001b[39m ((points[\u001b[38;5;241m-\u001b[39m\u001b[38;5;241m1\u001b[39m][\u001b[38;5;241m0\u001b[39m]\u001b[38;5;241m+\u001b[39mnew_vertex[\u001b[38;5;241m0\u001b[39m])\u001b[38;5;241m/\u001b[39m\u001b[38;5;241m2\u001b[39m,(points[\u001b[38;5;241m-\u001b[39m\u001b[38;5;241m1\u001b[39m][\u001b[38;5;241m1\u001b[39m]\u001b[38;5;241m+\u001b[39mnew_vertex[\u001b[38;5;241m1\u001b[39m]\u001b[38;5;241m/\u001b[39m\u001b[38;5;241m2\u001b[39m))\n",
      "\u001b[0;31mNameError\u001b[0m: name 'verticies' is not defined"
     ]
    }
   ],
   "source": [
    "#prompting the user for the nuber of steps \n",
    "while True: \n",
    "    try: \n",
    "        num_steps = int(input(\"enter the number of steps:\"))\n",
    "        if num_steps>0:\n",
    "            print(f\"Number of steps set to {num_steps}.\")\n",
    "            break\n",
    "        else:\n",
    "            print(\"please enter a positive integer.\")\n",
    "    except ValueError: \n",
    "        print(\"invalid input. please enter a positive integer.\")\n",
    "\n",
    "for i in range (num_steps):\n",
    "#choose a random vertex to move toward from the list 'vertices' \n",
    "# you can use the python code random.radient(0,2) \n",
    "#choose a random integer between 0 and 2 \n",
    "#use the random integer as the index for a vertex \n",
    "#your code should look like \"next_vertex = vertex[a random chouse of index]\n",
    "    new_vertex = verticies[random.radint(0,2)]\n",
    "    #this function will generate a random integer (vertex) in the index (0,1,2)\n",
    "    #create the next point by moving from the alst point to the midpoint of the line formed by that point and the random vertex\n",
    "    new_point = ((points[-1][0]+new_vertex[0])/2,(points[-1][1]+new_vertex[1]/2))"
   ]
  },
  {
   "cell_type": "code",
   "execution_count": 6,
   "id": "9be5ba77-e50e-480c-a276-b7870282ffb2",
   "metadata": {},
   "outputs": [
    {
     "ename": "NameError",
     "evalue": "name 'points' is not defined",
     "output_type": "error",
     "traceback": [
      "\u001b[0;31m---------------------------------------------------------------------------\u001b[0m",
      "\u001b[0;31mNameError\u001b[0m                                 Traceback (most recent call last)",
      "Cell \u001b[0;32mIn[6], line 6\u001b[0m\n\u001b[1;32m      4\u001b[0m     plot\u001b[38;5;241m.\u001b[39mshow()\n\u001b[1;32m      5\u001b[0m \u001b[38;5;66;03m#plot your points \u001b[39;00m\n\u001b[0;32m----> 6\u001b[0m plot_solution(\u001b[43mpoints\u001b[49m) \n",
      "\u001b[0;31mNameError\u001b[0m: name 'points' is not defined"
     ]
    }
   ],
   "source": [
    "#function to plot the solution set \n",
    "def plot_solution(points):\n",
    "    plot.scatter([p[0] for p in points], [p[1] for p in points], s=0.1)\n",
    "    plot.show()\n",
    "#plot your points \n",
    "    plot_solution(points) "
   ]
  },
  {
   "cell_type": "code",
   "execution_count": null,
   "id": "8716a6d0-589d-407b-bcf3-721e7b1687d0",
   "metadata": {},
   "outputs": [],
   "source": [
    "# the chaos game algorithm \n"
   ]
  },
  {
   "cell_type": "code",
   "execution_count": null,
   "id": "e1237d48-f3e5-492e-8831-e0792e48c61d",
   "metadata": {},
   "outputs": [],
   "source": []
  }
 ],
 "metadata": {
  "kernelspec": {
   "display_name": "Python 3 (ipykernel)",
   "language": "python",
   "name": "python3"
  },
  "language_info": {
   "codemirror_mode": {
    "name": "ipython",
    "version": 3
   },
   "file_extension": ".py",
   "mimetype": "text/x-python",
   "name": "python",
   "nbconvert_exporter": "python",
   "pygments_lexer": "ipython3",
   "version": "3.12.8"
  }
 },
 "nbformat": 4,
 "nbformat_minor": 5
}
