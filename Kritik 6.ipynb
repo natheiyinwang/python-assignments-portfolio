{
 "cells": [
  {
   "cell_type": "code",
   "execution_count": 42,
   "id": "30cad227-02e1-4555-bec4-a3db345d62e0",
   "metadata": {},
   "outputs": [],
   "source": [
    "import numpy as np\n",
    "import matplotlib.pyplot as plt"
   ]
  },
  {
   "cell_type": "code",
   "execution_count": 43,
   "id": "f18b297b-2dbd-431e-985f-aa9d7c0251ca",
   "metadata": {},
   "outputs": [
    {
     "name": "stdout",
     "output_type": "stream",
     "text": [
      "0.10377687435514868\n"
     ]
    },
    {
     "data": {
      "image/png": "[encoded data removed]",
      "text/plain": [
       "<Figure size 640x480 with 1 Axes>"
      ]
     },
     "metadata": {},
     "output_type": "display_data"
    }
   ],
   "source": [
    "\n",
    "def normal_density(mean, variance, x):\n",
    "    y=(1/(np.sqrt(2*np.pi*variance))*np.exp(((-0.5*(x-mean)**2))/variance))\n",
    "    return y\n",
    "print(normal_density(5,2,3))\n",
    "\n",
    "#for graph\n",
    "x = np.linspace(25,-25, 100000) \n",
    "y = normal_density(0, 10, x)\n",
    "\n",
    "plt.plot(x,y) \n",
    "plt.show()\n"
   ]
  },
  {
   "cell_type": "code",
   "execution_count": 49,
   "id": "108f617a-2b92-429c-817e-02b7913cef62",
   "metadata": {},
   "outputs": [
    {
     "name": "stdout",
     "output_type": "stream",
     "text": [
      "The value of the integral/probability is 0.8938070641993004\n"
     ]
    }
   ],
   "source": [
    "def integration(mean, variance, a,b):\n",
    "    dx = 0.0001 #slice width\n",
    "    n= int((b-a)/dx)\n",
    "    integral = 0 \n",
    "    # for loop for integral approximation\n",
    "    for i in range(n):\n",
    "        x = a + i*dx \n",
    "        y = normal_density(mean,variance,x)\n",
    "        integral = integral + y*dx\n",
    "    return integral\n",
    "print(\"The value of the integral/probability is\", integration(171,(7.1**2),162,190))"
   ]
  },
  {
   "cell_type": "code",
   "execution_count": 57,
   "id": "4119dcae-906d-4d04-a566-fb0a34515555",
   "metadata": {},
   "outputs": [
    {
     "name": "stdout",
     "output_type": "stream",
     "text": [
      "The expected value of the uniform distribution is 0.49995000000000017\n"
     ]
    }
   ],
   "source": [
    "def Uni_dist(a,b,x):\n",
    "    if (x>= a and x<= b) or (x<=a and x>=b):\n",
    "        return (1/(b-a)) \n",
    "    else:\n",
    "        return 0 \n",
    "\n",
    "def exp_val(prob_funct,a,b):\n",
    "    dx = 0.0001 #slice width\n",
    "    n = int((b-a)/dx)\n",
    "    exp_val = 0 \n",
    "    # for loop for integral approximation\n",
    "    for i in range(n):\n",
    "        x = a + i*dx \n",
    "        y = prob_funct(a,b,x) \n",
    "        exp_val = exp_val + x*y*dx\n",
    "    return exp_val\n",
    "\n",
    "sub = exp_val(Uni_dist,0,1)\n",
    "print(\"The expected value of the uniform distribution is\", sub)\n"
   ]
  },
  {
   "cell_type": "code",
   "execution_count": 83,
   "id": "58486e9f-f1da-4396-8ffb-e60ba4188e3d",
   "metadata": {},
   "outputs": [
    {
     "name": "stdout",
     "output_type": "stream",
     "text": [
      "the expected time between pandemics is 13.21203748886709\n",
      "13 is not expected as it should be approaching 50\n"
     ]
    }
   ],
   "source": [
    "def exp_dist(lamda,x):\n",
    "    if x>= 0: \n",
    "        return lamda*np.exp(-1*lamda*x)\n",
    "    else: \n",
    "        return 0\n",
    "\n",
    "def exp_exp_val(prob_funct,lamda,a,b):\n",
    "    dx = 0.0001 #slice width\n",
    "    n = int((b-a)/dx)\n",
    "    exp_val = 0 \n",
    "    # for loop for integral approximation\n",
    "    for i in range(n):\n",
    "        x = a + i*dx \n",
    "        y = prob_funct(lamda,x) \n",
    "        exp_val += x* y*dx\n",
    "    return exp_val\n",
    "\n",
    "sub = exp_exp_val(exp_dist, 1/50, 0, 50)\n",
    "print(\"the expected time between pandemics is\", sub)\n",
    "print( \"13 is not expected as it should be approaching 50\") "
   ]
  },
  {
   "cell_type": "code",
   "execution_count": 79,
   "id": "8799218a-e609-4b30-b8bd-bcfcf3273036",
   "metadata": {},
   "outputs": [
    {
     "name": "stdout",
     "output_type": "stream",
     "text": [
      "The required dosage is 69713.55579994844\n"
     ]
    }
   ],
   "source": [
    "def dosage(x): \n",
    "    return 2.38*x**2 \n",
    "\n",
    "def exp_dos_val(prob_func, mean, variance, a, b): \n",
    "    dx = 0.0001 #slice width\n",
    "    n = int((b-a)/dx)\n",
    "    exp_val = 0 \n",
    "    # for loop for integral approximation\n",
    "    for i in range(n):\n",
    "        x = a + i*dx \n",
    "        y = prob_func(mean,variance,x)\n",
    "\n",
    "        exp_val += dosage(x)*y*dx \n",
    "    return exp_val \n",
    "\n",
    "sub = exp_dos_val(normal_density,171,(7.1**2),0,250)\n",
    "print('The required dosage is ' + str(sub))"
   ]
  },
  {
   "cell_type": "code",
   "execution_count": null,
   "id": "15c179c8-a04c-454f-9b8a-32d1b41ba4fe",
   "metadata": {},
   "outputs": [],
   "source": []
  }
 ],
 "metadata": {
  "kernelspec": {
   "display_name": "Python 3 (ipykernel)",
   "language": "python",
   "name": "python3"
  },
  "language_info": {
   "codemirror_mode": {
    "name": "ipython",
    "version": 3
   },
   "file_extension": ".py",
   "mimetype": "text/x-python",
   "name": "python",
   "nbconvert_exporter": "python",
   "pygments_lexer": "ipython3",
   "version": "3.12.8"
  }
 },
 "nbformat": 4,
 "nbformat_minor": 5
}
