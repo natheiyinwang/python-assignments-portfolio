{
 "cells": [
  {
   "cell_type": "code",
   "execution_count": null,
   "id": "771e13c3-e74c-4b01-898e-ac0826e14944",
   "metadata": {},
   "outputs": [],
   "source": [
    "import numpy as np\n",
    "def f(x):\n",
    "  return x**2\n",
    "def g(x):\n",
    "  return np.sin(x)\n",
    "def h(x):\n",
    "  return np.exp(x)\n",
    "def differentiate(a,b,e): #define function\n",
    "  ss = 10**-8 #define step size\n",
    "  slope = (a(b+ss)-a(b-ss))/(2*ss)  #define slope using step size and c\n",
    "  xsub1 = b\n",
    "  xsub2 = b\n",
    "  error1 = abs(a(xsub1)-a(b)-(xsub1-b)*slope) #define error\n",
    "  error2 = abs(a(xsub2)-a(b)-(xsub2-b)*slope) #define error again\n",
    "  while error1<e:\n",
    "    xsub1=xsub1-0.000001\n",
    "    error1 = abs(a(xsub1)-a(b)-(xsub1-b)*slope) #this will find the error of the linear approximation at each step\n",
    "    if(error1>=e): #if the error is too great, stop\n",
    "      print(xsub1)\n",
    "      break\n",
    "  while error2<e:\n",
    "    xsub2=xsub2+0.000001\n",
    "    error2 = abs(a(xsub2)-a(b)-(xsub2-b)*slope) #this will find the error of the linear approximation at each step\n",
    "    if error2>=e: #if the error is too great, stop\n",
    "      print(x2)\n",
    "      break\n",
    "     \n",
    "\n",
    "differentiate(f,1,0.1)\n",
    "differentiate(g,np.pi/4,0.05)\n",
    "differentiate(h,0,0.01)"
   ]
  }
 ],
 "metadata": {
  "kernelspec": {
   "display_name": "Python 3 (ipykernel)",
   "language": "python",
   "name": "python3"
  },
  "language_info": {
   "codemirror_mode": {
    "name": "ipython",
    "version": 3
   },
   "file_extension": ".py",
   "mimetype": "text/x-python",
   "name": "python",
   "nbconvert_exporter": "python",
   "pygments_lexer": "ipython3",
   "version": "3.11.9"
  }
 },
 "nbformat": 4,
 "nbformat_minor": 5
}
