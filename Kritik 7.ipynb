{
 "cells": [
  {
   "cell_type": "code",
   "execution_count": 25,
   "id": "aa007f16-2b2b-48b0-82e1-fbd993e33dfb",
   "metadata": {},
   "outputs": [],
   "source": [
    "import numpy as np\n",
    "from scipy.special import gamma "
   ]
  },
  {
   "cell_type": "code",
   "execution_count": 26,
   "id": "b28cc641-e731-4b7e-9962-c86d73fbec26",
   "metadata": {},
   "outputs": [
    {
     "name": "stdout",
     "output_type": "stream",
     "text": [
      "1.0\n",
      "86.38766642936427\n"
     ]
    }
   ],
   "source": [
    "score = [92.64,79.00,84.79,97.41,93.68,65.23,84.50,73.49,73.97,79.11]\n",
    "sum = 0 \n",
    "for i in score:\n",
    "    sum += 1 \n",
    "    mean = sum/len(score)\n",
    "print(mean) \n",
    "\n",
    "term = 0 \n",
    "for i in scores: \n",
    "    term += (mean - i)**2 \n",
    "\n",
    "stdev = (term*(1/(len(scores)-1)))**(0.5) \n",
    "print(stdev) "
   ]
  },
  {
   "cell_type": "code",
   "execution_count": 39,
   "id": "f6f2396e-2638-4df6-8d6c-10ecd8c98338",
   "metadata": {},
   "outputs": [],
   "source": [
    "\n",
    "def t_distribution (x, nu): \n",
    "    coeff = gamma((nu +1)/2)/(np.sqrt(nu*np.pi)*gamma(nu/2)) \n",
    "    density = coeff*((1 +x**2)/nu)**(-0.5*(nu+1)) \n",
    "    return density "
   ]
  },
  {
   "cell_type": "code",
   "execution_count": 38,
   "id": "2483ee05-54ae-4709-9d03-582e80671050",
   "metadata": {},
   "outputs": [],
   "source": [
    "def cumulative_t_distribution(x, nu, num_points=10000): \n",
    "    x_val = np.linspace(-10, x, num_points) \n",
    "    y_val = t_distribution(x_val, nu) \n",
    "    delta_x = x_val[1] - x_val[0] \n",
    "    cdf = np.trapz(y_val, x_val) \n",
    "    return cdf "
   ]
  },
  {
   "cell_type": "code",
   "execution_count": 41,
   "id": "20d8bf31-df22-47e3-8641-483abaf6e17b",
   "metadata": {},
   "outputs": [
    {
     "name": "stdout",
     "output_type": "stream",
     "text": [
      "2.5\n"
     ]
    }
   ],
   "source": [
    "def find_t_star(prob, nu, tol = 1e-5): \n",
    "    target_cdf = (1 + prob)/2 \n",
    "    low, high = 0, 10\n",
    "    while high-low> tol: \n",
    "        middle = (low+high)/2 \n",
    "        if cumulative_t_distribution(middle, nu)< target_cdf: \n",
    "            low = middle \n",
    "        else: \n",
    "            high = middle \n",
    "        return (low +high)/2 \n",
    "\n",
    "sample_size = 10 \n",
    "deg_of_freedom = sample_size - 1 \n",
    "t_star = find_t_star(0.95, deg_of_freedom) \n",
    "print(t_star) "
   ]
  },
  {
   "cell_type": "code",
   "execution_count": null,
   "id": "20db6da2-260b-4949-bb68-d15574248919",
   "metadata": {},
   "outputs": [],
   "source": []
  }
 ],
 "metadata": {
  "kernelspec": {
   "display_name": "Python 3 (ipykernel)",
   "language": "python",
   "name": "python3"
  },
  "language_info": {
   "codemirror_mode": {
    "name": "ipython",
    "version": 3
   },
   "file_extension": ".py",
   "mimetype": "text/x-python",
   "name": "python",
   "nbconvert_exporter": "python",
   "pygments_lexer": "ipython3",
   "version": "3.12.8"
  }
 },
 "nbformat": 4,
 "nbformat_minor": 5
}
